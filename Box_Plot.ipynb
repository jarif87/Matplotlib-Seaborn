{
  "nbformat": 4,
  "nbformat_minor": 0,
  "metadata": {
    "colab": {
      "provenance": []
    },
    "kernelspec": {
      "name": "python3",
      "display_name": "Python 3"
    },
    "language_info": {
      "name": "python"
    }
  },
  "cells": [
    {
      "cell_type": "markdown",
      "source": [
        "# Box and Whisker Plot Definition"
      ],
      "metadata": {
        "id": "7XLpSctH_S_C"
      }
    },
    {
      "cell_type": "markdown",
      "source": [
        "* A box and whisker plot is a visual tool that is used to graphically display the median, lower and upper quartiles, and lower and upper extremes of a set of data.\n",
        "\n",
        "* Box and whisker plots help you to see the variance of data and can be a very helpful tool.\n",
        "\n",
        "* This guide to creating and understanding box and whisker plots will provide a step-by-step tutorial along with a free box and whisker plot worksheet."
      ],
      "metadata": {
        "id": "nZoSXslf_W7d"
      }
    },
    {
      "cell_type": "markdown",
      "source": [
        "# How to Make a Box and Whisker Plot"
      ],
      "metadata": {
        "id": "zFowvT6A_fIo"
      }
    },
    {
      "cell_type": "markdown",
      "source": [
        "![](https://images.squarespace-cdn.com/content/v1/54905286e4b050812345644c/1569531761706-Z2AEYDJ3NQPL99JSZJCT/Snip20190926_5.png?format=750w)"
      ],
      "metadata": {
        "id": "ISvm7huY_Wsn"
      }
    },
    {
      "cell_type": "markdown",
      "source": [
        "# Observe the following data set below that shares a basketball players points scored per game over a seven game span:"
      ],
      "metadata": {
        "id": "ZoaXLpH8_q5r"
      }
    },
    {
      "cell_type": "markdown",
      "source": [
        "![](https://images.squarespace-cdn.com/content/v1/54905286e4b050812345644c/1569532016860-LLZDBJ1GPM9OPLXUOKAY/Snip20190926_6.png?format=500w)"
      ],
      "metadata": {
        "id": "w-ahYJ4G_qt5"
      }
    },
    {
      "cell_type": "markdown",
      "source": [
        "# Step One: The first step to creating a box and whisker plot is to arrange the values in the data set from least to greatest.\n",
        "\n",
        "* In this example, arrange the points scored per game from least to greatest"
      ],
      "metadata": {
        "id": "zVob6dIM_qjE"
      }
    },
    {
      "cell_type": "markdown",
      "source": [
        "![](https://images.squarespace-cdn.com/content/v1/54905286e4b050812345644c/1569797960854-NIQMQSMO4GYXV893YNOS/Snip20190929_2.png?format=750w)"
      ],
      "metadata": {
        "id": "zlCGcbJx_qZp"
      }
    },
    {
      "cell_type": "markdown",
      "source": [
        "# Step Two: Identify the upper and lower extremes (the highest and lowest values in the data set).\n",
        "\n",
        "* The lower extreme is the smallest value, which is 5 in this example.\n",
        "\n",
        "* The upper extreme is the highest value, which is 32 in this example."
      ],
      "metadata": {
        "id": "7oA5D30n__qF"
      }
    },
    {
      "cell_type": "markdown",
      "source": [
        "![](https://images.squarespace-cdn.com/content/v1/54905286e4b050812345644c/1569798156617-CZUXETMK6FCTQKV0C8L5/Snip20190929_3.png?format=1000w)"
      ],
      "metadata": {
        "id": "AcZwt_bP__f2"
      }
    },
    {
      "cell_type": "markdown",
      "source": [
        "# Step Three: Identify the median, or middle, of the data set.\n",
        "\n",
        "# In this example, the median is 17."
      ],
      "metadata": {
        "id": "ZP3Y-Yba__WS"
      }
    },
    {
      "cell_type": "markdown",
      "source": [
        "![](https://images.squarespace-cdn.com/content/v1/54905286e4b050812345644c/1569798245728-2NPUE0V6ZSQ98R7ETQXI/Snip20190929_4.png?format=750w)"
      ],
      "metadata": {
        "id": "XyzhDvSP__NE"
      }
    },
    {
      "cell_type": "markdown",
      "source": [
        "# Step Four: Identify the upper and lower quartiles.\n",
        "\n",
        "* To find the lower quartile and the upper quartile, start by splitting the data set at the median into lower and upper regions"
      ],
      "metadata": {
        "id": "4ioYxvlOAYRE"
      }
    },
    {
      "cell_type": "markdown",
      "source": [
        "![](https://images.squarespace-cdn.com/content/v1/54905286e4b050812345644c/1569798427051-EOS4YJEXX7T7GAJHF1HV/Snip20190929_5.png?format=750w)"
      ],
      "metadata": {
        "id": "QMdrhZEaAYHx"
      }
    },
    {
      "cell_type": "markdown",
      "source": [
        "* The upper quartile is the median of the upper region and the lower quartile is the median of the lower region.\n",
        "\n",
        "# In this example, the upper quartile is 20 and the lower quartile is 10."
      ],
      "metadata": {
        "id": "_cBE5m1RAX98"
      }
    },
    {
      "cell_type": "markdown",
      "source": [
        "![](https://images.squarespace-cdn.com/content/v1/54905286e4b050812345644c/1569798513168-ZCAT9AJAXEUUFM5HU9JW/Snip20190929_6.png?format=750w)"
      ],
      "metadata": {
        "id": "KAS2OgIAAX1x"
      }
    },
    {
      "cell_type": "markdown",
      "source": [
        "# Now we have all of the information that we will need to construct our box and whisker plot"
      ],
      "metadata": {
        "id": "xzOtgmP3AXqp"
      }
    },
    {
      "cell_type": "markdown",
      "source": [
        "![](https://images.squarespace-cdn.com/content/v1/54905286e4b050812345644c/1569798589156-0WLSHJRQ7B0PWNEPCNIV/Snip20190929_7.png?format=300w)"
      ],
      "metadata": {
        "id": "Ylzn5kyLBJsQ"
      }
    },
    {
      "cell_type": "markdown",
      "source": [
        "# Step Five: Construct the Box and Whisker Plot\n",
        "\n",
        "* To construct a box and whisker plot, start by drawing a number line that fits the data set."
      ],
      "metadata": {
        "id": "jlu11MQFBOyz"
      }
    },
    {
      "cell_type": "markdown",
      "source": [
        "![](https://images.squarespace-cdn.com/content/v1/54905286e4b050812345644c/1569798671725-ZAX1XWYXFQ4AX4FH18F8/Snip20190929_8.png?format=1000w)"
      ],
      "metadata": {
        "id": "sTsX6waqBOnS"
      }
    },
    {
      "cell_type": "markdown",
      "source": [
        "* Start by plotting points over the number line at the lower and upper extremes, the median, and the lower and upper quartiles."
      ],
      "metadata": {
        "id": "vcEfiEzeCEqB"
      }
    },
    {
      "cell_type": "markdown",
      "source": [
        "![](https://images.squarespace-cdn.com/content/v1/54905286e4b050812345644c/1569798772831-6C3HDW75GWIQG7BEMTQ8/Snip20190929_9.png?format=1000w)"
      ],
      "metadata": {
        "id": "h4kgCEVCCEek"
      }
    },
    {
      "cell_type": "markdown",
      "source": [
        "* Next, construct two vertical lines through the upper and lower quartiles, and then constructing a rectangular box that encloses the median value point."
      ],
      "metadata": {
        "id": "dRK5mCFuCEU8"
      }
    },
    {
      "cell_type": "markdown",
      "source": [
        "![](https://images.squarespace-cdn.com/content/v1/54905286e4b050812345644c/1569798848011-KK2X5K9I5PA2FM5QV9Y2/Snip20190929_10.png?format=1000w)"
      ],
      "metadata": {
        "id": "ruuBLdg1CNiY"
      }
    },
    {
      "cell_type": "markdown",
      "source": [
        "* Then construct a vertical line through the median point that extends to the top and bottom of the rectangle.\n",
        "\n",
        "* This is the box in the box and whisker plot."
      ],
      "metadata": {
        "id": "C1CwStFXCNbL"
      }
    },
    {
      "cell_type": "markdown",
      "source": [
        "![](https://images.squarespace-cdn.com/content/v1/54905286e4b050812345644c/1569798929379-UJI08HQDZLU22ZMIVIYE/Snip20190929_12.png?format=750w)"
      ],
      "metadata": {
        "id": "YcgrrHjICNRP"
      }
    },
    {
      "cell_type": "markdown",
      "source": [
        "* Finally, draw horizontal lines that connect the lower quartile to the lower extreme and the upper quartile to the upper extreme to complete the box and whisker plot"
      ],
      "metadata": {
        "id": "J0DEyFqqCv4h"
      }
    },
    {
      "cell_type": "markdown",
      "source": [
        "![](https://images.squarespace-cdn.com/content/v1/54905286e4b050812345644c/1569799025236-7RD3OKX4OL179SZFS0X8/Snip20190929_14.png?format=1000w)"
      ],
      "metadata": {
        "id": "X3z0p5CACvtc"
      }
    },
    {
      "cell_type": "markdown",
      "source": [
        "# The box and whisker plot is complete"
      ],
      "metadata": {
        "id": "bioyVwxQDBdr"
      }
    },
    {
      "cell_type": "markdown",
      "source": [
        "# [References](https://www.mashupmath.com/blog/box-and-whisker-plots-explained)"
      ],
      "metadata": {
        "id": "MSB2siDpDDT_"
      }
    },
    {
      "cell_type": "code",
      "execution_count": 21,
      "metadata": {
        "id": "qjY7fyP38dPF"
      },
      "outputs": [],
      "source": [
        "import matplotlib.pyplot as plt\n",
        "%matplotlib inline\n"
      ]
    },
    {
      "cell_type": "code",
      "source": [
        "x=[10,20,30,40,50,60,70,80]\n",
        "plt.boxplot(x)\n",
        "plt.show()"
      ],
      "metadata": {
        "colab": {
          "base_uri": "https://localhost:8080/",
          "height": 265
        },
        "id": "zGrNQQGi8iIo",
        "outputId": "3c0e2813-7c47-4a89-fa04-c18f34e0c6f3"
      },
      "execution_count": 22,
      "outputs": [
        {
          "output_type": "display_data",
          "data": {
            "text/plain": [
              "<Figure size 432x288 with 1 Axes>"
            ],
            "image/png": "[encoded data removed]"
          },
          "metadata": {
            "needs_background": "light"
          }
        }
      ]
    },
    {
      "cell_type": "markdown",
      "source": [
        "# Notch"
      ],
      "metadata": {
        "id": "au1C57UbQSPY"
      }
    },
    {
      "cell_type": "code",
      "source": [
        "x=[10,20,30,40,50,60,70,80]\n",
        "plt.boxplot(x,notch=True)\n",
        "plt.show()"
      ],
      "metadata": {
        "colab": {
          "base_uri": "https://localhost:8080/",
          "height": 265
        },
        "id": "grPeiyM48iMM",
        "outputId": "ba7c75c6-d457-492f-ff47-2cb613405529"
      },
      "execution_count": 23,
      "outputs": [
        {
          "output_type": "display_data",
          "data": {
            "text/plain": [
              "<Figure size 432x288 with 1 Axes>"
            ],
            "image/png": "[encoded data removed]"
          },
          "metadata": {
            "needs_background": "light"
          }
        }
      ]
    },
    {
      "cell_type": "markdown",
      "source": [
        "# vert"
      ],
      "metadata": {
        "id": "mwxSw0DBQWFq"
      }
    },
    {
      "cell_type": "code",
      "source": [
        "x=[10,20,30,40,50,60,70,80]\n",
        "plt.boxplot(x,vert=False)\n",
        "plt.show()"
      ],
      "metadata": {
        "colab": {
          "base_uri": "https://localhost:8080/",
          "height": 265
        },
        "id": "5jEows9y8iQE",
        "outputId": "fc199d04-d5ad-4aa3-8de3-1c826772f41e"
      },
      "execution_count": 24,
      "outputs": [
        {
          "output_type": "display_data",
          "data": {
            "text/plain": [
              "<Figure size 432x288 with 1 Axes>"
            ],
            "image/png": "[encoded data removed]"
          },
          "metadata": {
            "needs_background": "light"
          }
        }
      ]
    },
    {
      "cell_type": "markdown",
      "source": [
        "# widths"
      ],
      "metadata": {
        "id": "FvvWOEPYQZ0-"
      }
    },
    {
      "cell_type": "code",
      "source": [
        "x=[10,20,30,40,50,60,70,80]\n",
        "plt.boxplot(x,widths=0.4)\n",
        "plt.show()"
      ],
      "metadata": {
        "colab": {
          "base_uri": "https://localhost:8080/",
          "height": 265
        },
        "id": "bij5AOMM8iTJ",
        "outputId": "f8b1c5a9-c70c-4836-902d-0c6d67a7f5a5"
      },
      "execution_count": 25,
      "outputs": [
        {
          "output_type": "display_data",
          "data": {
            "text/plain": [
              "<Figure size 432x288 with 1 Axes>"
            ],
            "image/png": "[encoded data removed]"
          },
          "metadata": {
            "needs_background": "light"
          }
        }
      ]
    },
    {
      "cell_type": "markdown",
      "source": [
        "# labels"
      ],
      "metadata": {
        "id": "cIHIUrPDQfS0"
      }
    },
    {
      "cell_type": "code",
      "source": [
        "x=[10,20,30,40,50,60,70,80]\n",
        "plt.boxplot(x,labels=[\"python\"])\n",
        "plt.show()"
      ],
      "metadata": {
        "colab": {
          "base_uri": "https://localhost:8080/",
          "height": 265
        },
        "id": "MnhcD8CB8iWy",
        "outputId": "273a1dec-e849-4e92-cd42-bce52d9ca84c"
      },
      "execution_count": 26,
      "outputs": [
        {
          "output_type": "display_data",
          "data": {
            "text/plain": [
              "<Figure size 432x288 with 1 Axes>"
            ],
            "image/png": "[encoded data removed]"
          },
          "metadata": {
            "needs_background": "light"
          }
        }
      ]
    },
    {
      "cell_type": "markdown",
      "source": [
        "# patch_artist"
      ],
      "metadata": {
        "id": "pB55cHaXQjEu"
      }
    },
    {
      "cell_type": "code",
      "source": [
        "x=[10,20,30,40,50,60,70,80]\n",
        "plt.boxplot(x,labels=[\"python\"],patch_artist=True)\n",
        "plt.show()"
      ],
      "metadata": {
        "colab": {
          "base_uri": "https://localhost:8080/",
          "height": 265
        },
        "id": "DG2Ugqyh8iaf",
        "outputId": "6bfccc30-a496-4424-9b63-20b9a3843be2"
      },
      "execution_count": 27,
      "outputs": [
        {
          "output_type": "display_data",
          "data": {
            "text/plain": [
              "<Figure size 432x288 with 1 Axes>"
            ],
            "image/png": "[encoded data removed]"
          },
          "metadata": {
            "needs_background": "light"
          }
        }
      ]
    },
    {
      "cell_type": "code",
      "source": [
        "x=[10,20,30,40,50,60,70,80]\n",
        "plt.boxplot(x,labels=[\"python\"],showmeans=True)\n",
        "plt.show()"
      ],
      "metadata": {
        "colab": {
          "base_uri": "https://localhost:8080/",
          "height": 265
        },
        "id": "UOZm2NPZ8ig-",
        "outputId": "d3023eda-4d42-4031-b338-2c5c44420364"
      },
      "execution_count": 28,
      "outputs": [
        {
          "output_type": "display_data",
          "data": {
            "text/plain": [
              "<Figure size 432x288 with 1 Axes>"
            ],
            "image/png": "[encoded data removed]"
          },
          "metadata": {
            "needs_background": "light"
          }
        }
      ]
    },
    {
      "cell_type": "markdown",
      "source": [
        "# showmeans"
      ],
      "metadata": {
        "id": "P7kNS8lNQnZD"
      }
    },
    {
      "cell_type": "code",
      "source": [
        "x=[10,20,30,40,50,60,70,80,200]\n",
        "plt.boxplot(x,labels=[\"python\"],showmeans=True)\n",
        "plt.show()"
      ],
      "metadata": {
        "colab": {
          "base_uri": "https://localhost:8080/",
          "height": 265
        },
        "id": "4jwFJi9t8ik0",
        "outputId": "4e500e9d-6978-4ca5-8004-a29b698825cf"
      },
      "execution_count": 29,
      "outputs": [
        {
          "output_type": "display_data",
          "data": {
            "text/plain": [
              "<Figure size 432x288 with 1 Axes>"
            ],
            "image/png": "[encoded data removed]"
          },
          "metadata": {
            "needs_background": "light"
          }
        }
      ]
    },
    {
      "cell_type": "markdown",
      "source": [
        "# whis"
      ],
      "metadata": {
        "id": "Ygark8niQ0n5"
      }
    },
    {
      "cell_type": "code",
      "source": [
        "x=[10,20,30,40,50,60,70,80,200]\n",
        "plt.boxplot(x,labels=[\"python\"],showmeans=True,whis=4)\n",
        "plt.show()"
      ],
      "metadata": {
        "colab": {
          "base_uri": "https://localhost:8080/",
          "height": 265
        },
        "id": "sfClcLLfIr_w",
        "outputId": "171a6496-86ed-431e-97c3-3dc1d55d1c4f"
      },
      "execution_count": 30,
      "outputs": [
        {
          "output_type": "display_data",
          "data": {
            "text/plain": [
              "<Figure size 432x288 with 1 Axes>"
            ],
            "image/png": "[encoded data removed]"
          },
          "metadata": {
            "needs_background": "light"
          }
        }
      ]
    },
    {
      "cell_type": "code",
      "source": [
        "x=[10,20,30,40,50,60,70,80,120,130,140]\n",
        "plt.boxplot(x,labels=[\"python\"],showmeans=True)\n",
        "plt.show()"
      ],
      "metadata": {
        "colab": {
          "base_uri": "https://localhost:8080/",
          "height": 265
        },
        "id": "OnQwJHV7GlKP",
        "outputId": "bb2b0cde-38c7-4ef5-c340-8758d53b33c8"
      },
      "execution_count": 31,
      "outputs": [
        {
          "output_type": "display_data",
          "data": {
            "text/plain": [
              "<Figure size 432x288 with 1 Axes>"
            ],
            "image/png": "[encoded data removed]"
          },
          "metadata": {
            "needs_background": "light"
          }
        }
      ]
    },
    {
      "cell_type": "markdown",
      "source": [
        "# sym"
      ],
      "metadata": {
        "id": "yvPWsLB8Qr8C"
      }
    },
    {
      "cell_type": "code",
      "source": [
        "m=[10,20,30,40,50,60,70,80,150]\n",
        "plt.boxplot(m,labels=[\"python\"],showmeans=True,sym=\"mP\")\n",
        "plt.show()"
      ],
      "metadata": {
        "colab": {
          "base_uri": "https://localhost:8080/",
          "height": 265
        },
        "id": "cfbhmISfGk2z",
        "outputId": "64bdf466-a64a-4098-bc16-f52c9253afd7"
      },
      "execution_count": 32,
      "outputs": [
        {
          "output_type": "display_data",
          "data": {
            "text/plain": [
              "<Figure size 432x288 with 1 Axes>"
            ],
            "image/png": "[encoded data removed]"
          },
          "metadata": {
            "needs_background": "light"
          }
        }
      ]
    },
    {
      "cell_type": "code",
      "source": [
        "m=[10,20,30,40,50,60,70,80,150]\n",
        "plt.boxplot(m,labels=[\"python\"],showmeans=True,sym=\" \")\n",
        "plt.show()"
      ],
      "metadata": {
        "colab": {
          "base_uri": "https://localhost:8080/",
          "height": 265
        },
        "id": "dYmC1rs9LNe9",
        "outputId": "79488921-0403-470b-ce8e-9f8aaf14ca76"
      },
      "execution_count": 33,
      "outputs": [
        {
          "output_type": "display_data",
          "data": {
            "text/plain": [
              "<Figure size 432x288 with 1 Axes>"
            ],
            "image/png": "[encoded data removed]"
          },
          "metadata": {
            "needs_background": "light"
          }
        }
      ]
    },
    {
      "cell_type": "markdown",
      "source": [
        "# boxprops"
      ],
      "metadata": {
        "id": "w9eakcq6Q78t"
      }
    },
    {
      "cell_type": "code",
      "source": [
        "m=[10,20,30,40,50,60,70,80]\n",
        "plt.boxplot(m,labels=[\"python\"],showmeans=True,boxprops=dict(color=\"g\"))\n",
        "plt.show()"
      ],
      "metadata": {
        "colab": {
          "base_uri": "https://localhost:8080/",
          "height": 265
        },
        "id": "THlBAeZHLNa0",
        "outputId": "7cea2ce7-fea3-4b9a-c56b-8eaff8c93424"
      },
      "execution_count": 34,
      "outputs": [
        {
          "output_type": "display_data",
          "data": {
            "text/plain": [
              "<Figure size 432x288 with 1 Axes>"
            ],
            "image/png": "[encoded data removed]"
          },
          "metadata": {
            "needs_background": "light"
          }
        }
      ]
    },
    {
      "cell_type": "markdown",
      "source": [
        "# capprops"
      ],
      "metadata": {
        "id": "gCSt1giiQ_Mz"
      }
    },
    {
      "cell_type": "code",
      "source": [
        "m=[10,20,30,40,50,60,70,80]\n",
        "plt.boxplot(m,labels=[\"python\"],showmeans=True,capprops=dict(color=\"darkorange\"))\n",
        "plt.show()"
      ],
      "metadata": {
        "colab": {
          "base_uri": "https://localhost:8080/",
          "height": 265
        },
        "id": "s5-tcyMrLNSO",
        "outputId": "e8e74b0e-ff79-4c54-af75-3021a7fe5cd6"
      },
      "execution_count": 35,
      "outputs": [
        {
          "output_type": "display_data",
          "data": {
            "text/plain": [
              "<Figure size 432x288 with 1 Axes>"
            ],
            "image/png": "[encoded data removed]"
          },
          "metadata": {
            "needs_background": "light"
          }
        }
      ]
    },
    {
      "cell_type": "markdown",
      "source": [
        "# whiskerprops"
      ],
      "metadata": {
        "id": "wDzwzHaMRE7j"
      }
    },
    {
      "cell_type": "code",
      "source": [
        "m=[10,20,30,40,50,60,70,80]\n",
        "plt.boxplot(m,labels=[\"python\"],showmeans=True,whiskerprops=dict(color=\"darkorange\"))\n",
        "plt.show()"
      ],
      "metadata": {
        "colab": {
          "base_uri": "https://localhost:8080/",
          "height": 265
        },
        "id": "YZhQkhjOLNOd",
        "outputId": "2a524fd6-1318-44e4-8e96-c495837f7cab"
      },
      "execution_count": 36,
      "outputs": [
        {
          "output_type": "display_data",
          "data": {
            "text/plain": [
              "<Figure size 432x288 with 1 Axes>"
            ],
            "image/png": "[encoded data removed]"
          },
          "metadata": {
            "needs_background": "light"
          }
        }
      ]
    },
    {
      "cell_type": "markdown",
      "source": [
        "# flierprops"
      ],
      "metadata": {
        "id": "GziRIOiNRLUA"
      }
    },
    {
      "cell_type": "code",
      "source": [
        "m=[10,20,30,40,50,60,70,80,150]\n",
        "plt.boxplot(m,labels=[\"python\"],showmeans=True,flierprops=dict(markeredgecolor=\"darkorange\"))\n",
        "plt.show()"
      ],
      "metadata": {
        "colab": {
          "base_uri": "https://localhost:8080/",
          "height": 265
        },
        "id": "6fKxoWZELNJ3",
        "outputId": "50f10460-857e-4372-ac0b-06a0e6af1fa3"
      },
      "execution_count": 37,
      "outputs": [
        {
          "output_type": "display_data",
          "data": {
            "text/plain": [
              "<Figure size 432x288 with 1 Axes>"
            ],
            "image/png": "[encoded data removed]"
          },
          "metadata": {
            "needs_background": "light"
          }
        }
      ]
    },
    {
      "cell_type": "markdown",
      "source": [
        "# multiple boxplot"
      ],
      "metadata": {
        "id": "ev943R4MS4dt"
      }
    },
    {
      "cell_type": "code",
      "source": [
        "m=[10,20,30,40,50,60,70,80]\n",
        "n=[20,40,50,60,70,80,90,100]\n",
        "plt.boxplot(m,labels=[\"python\"])\n",
        "plt.boxplot(n,labels=[\"python_2\"])\n",
        "plt.show()"
      ],
      "metadata": {
        "id": "8wGzXVjDMnem",
        "colab": {
          "base_uri": "https://localhost:8080/",
          "height": 266
        },
        "outputId": "124886cd-7af6-4f8c-8762-d5fb347903f8"
      },
      "execution_count": 39,
      "outputs": [
        {
          "output_type": "display_data",
          "data": {
            "text/plain": [
              "<Figure size 432x288 with 1 Axes>"
            ],
            "image/png": "[encoded data removed]"
          },
          "metadata": {
            "needs_background": "light"
          }
        }
      ]
    },
    {
      "cell_type": "code",
      "source": [
        "m=[10,20,30,40,50,60,70,80]\n",
        "n=[20,40,50,60,70,80,90,100]\n",
        "o=[m,n]\n",
        "plt.boxplot(o,labels=[\"python\",\"C++\"])\n",
        "\n",
        "plt.show()"
      ],
      "metadata": {
        "id": "t0noxzVvMnpl",
        "colab": {
          "base_uri": "https://localhost:8080/",
          "height": 265
        },
        "outputId": "6d2b4e95-6d7d-486e-ddfd-4649ec0332a8"
      },
      "execution_count": 40,
      "outputs": [
        {
          "output_type": "display_data",
          "data": {
            "text/plain": [
              "<Figure size 432x288 with 1 Axes>"
            ],
            "image/png": "[encoded data removed]"
          },
          "metadata": {
            "needs_background": "light"
          }
        }
      ]
    },
    {
      "cell_type": "code",
      "source": [],
      "metadata": {
        "id": "63h9oo1cMnz6"
      },
      "execution_count": 38,
      "outputs": []
    },
    {
      "cell_type": "code",
      "source": [],
      "metadata": {
        "id": "4Dr92USZMoAh"
      },
      "execution_count": 38,
      "outputs": []
    },
    {
      "cell_type": "code",
      "source": [],
      "metadata": {
        "id": "OkSi8bJiLM4i"
      },
      "execution_count": 38,
      "outputs": []
    }
  ]
}